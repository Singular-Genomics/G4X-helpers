{
 "cells": [
  {
   "cell_type": "code",
   "execution_count": 1,
   "id": "c8ffbbe0",
   "metadata": {},
   "outputs": [
    {
     "data": {
      "text/plain": [
       "'0.1.1'"
      ]
     },
     "execution_count": 1,
     "metadata": {},
     "output_type": "execute_result"
    }
   ],
   "source": [
    "# pip install G4X-helpers\n",
    "import g4x_helpers as g4h\n",
    "g4h.__version__"
   ]
  },
  {
   "cell_type": "markdown",
   "id": "f1a8b4a5",
   "metadata": {},
   "source": [
    "### pass a customer output folder to create a sample object"
   ]
  },
  {
   "cell_type": "code",
   "execution_count": 2,
   "id": "980841a9",
   "metadata": {},
   "outputs": [
    {
     "name": "stdout",
     "output_type": "stream",
     "text": [
      "G4X_output @ /mnt/scratch/users/floraths/s3_data/caretta_staged_reads/g4-007/127/fc3/g4-007-127-FC3-L002_v2111/customer_output/D02\n",
      "Sample: \u001b[1mD02\u001b[0m of G07-127, FC3\n",
      "imaged area: (4.76 x 6.00) mm\n",
      "\n",
      "Transcript panel with 362 genes\t[ACKR1, ACKR4, ACTA2, ADGRE5, ADGRF5 ... ]\n",
      "Protein panel with 20 proteins\t[ATPase, CD11c, CD20, CD3, CD31 ... ]\n",
      "\n"
     ]
    }
   ],
   "source": [
    "run_base = '/mnt/scratch/users/floraths/s3_data/caretta_staged_reads/g4-007/127/fc3/g4-007-127-FC3-L002_v2111/customer_output/D02'\n",
    "sample = g4h.G4Xoutput(run_base=run_base)\n",
    "\n",
    "print(sample)"
   ]
  },
  {
   "cell_type": "markdown",
   "id": "72589b92",
   "metadata": {},
   "source": [
    "list content of the sample directory and its subdirectories"
   ]
  },
  {
   "cell_type": "code",
   "execution_count": 3,
   "id": "6617bbdd",
   "metadata": {},
   "outputs": [
    {
     "data": {
      "text/plain": [
       "{'dirs': [],\n",
       " 'files': ['clustering_umap.csv.gz',\n",
       "  'cell_by_protein.csv.gz',\n",
       "  'cell_metadata.csv.gz',\n",
       "  'cell_by_transcript.csv.gz',\n",
       "  'dgex.csv.gz',\n",
       "  'feature_matrix.h5']}"
      ]
     },
     "execution_count": 3,
     "metadata": {},
     "output_type": "execute_result"
    }
   ],
   "source": [
    "sample.list_content(subdir='single_cell_data')"
   ]
  },
  {
   "cell_type": "code",
   "execution_count": 5,
   "id": "12bc833c",
   "metadata": {},
   "outputs": [
    {
     "data": {
      "text/plain": [
       "(19200, 15232, 3)"
      ]
     },
     "execution_count": 5,
     "metadata": {},
     "output_type": "execute_result"
    }
   ],
   "source": [
    "img = sample.load_image('h_and_e', thumbnail=False)\n",
    "img.shape"
   ]
  },
  {
   "cell_type": "markdown",
   "id": "6f5672da",
   "metadata": {},
   "source": [
    "# Re-Segmentation\n",
    "### vectorize the seg masks to simulate input from polygons"
   ]
  },
  {
   "cell_type": "code",
   "execution_count": 6,
   "id": "50993474",
   "metadata": {},
   "outputs": [
    {
     "data": {
      "text/html": [
       "<div>\n",
       "<style scoped>\n",
       "    .dataframe tbody tr th:only-of-type {\n",
       "        vertical-align: middle;\n",
       "    }\n",
       "\n",
       "    .dataframe tbody tr th {\n",
       "        vertical-align: top;\n",
       "    }\n",
       "\n",
       "    .dataframe thead th {\n",
       "        text-align: right;\n",
       "    }\n",
       "</style>\n",
       "<table border=\"1\" class=\"dataframe\">\n",
       "  <thead>\n",
       "    <tr style=\"text-align: right;\">\n",
       "      <th></th>\n",
       "      <th>label</th>\n",
       "      <th>geometry</th>\n",
       "    </tr>\n",
       "  </thead>\n",
       "  <tbody>\n",
       "    <tr>\n",
       "      <th>0</th>\n",
       "      <td>1</td>\n",
       "      <td>POLYGON ((11282.5 37, 11281.5 37, 11280.5 37, ...</td>\n",
       "    </tr>\n",
       "    <tr>\n",
       "      <th>1</th>\n",
       "      <td>2</td>\n",
       "      <td>POLYGON ((77.5 42, 76.5 42, 75.5 42, 74.5 42, ...</td>\n",
       "    </tr>\n",
       "    <tr>\n",
       "      <th>2</th>\n",
       "      <td>3</td>\n",
       "      <td>POLYGON ((13034.5 78, 13033.5 78, 13032.5 78, ...</td>\n",
       "    </tr>\n",
       "    <tr>\n",
       "      <th>3</th>\n",
       "      <td>4</td>\n",
       "      <td>POLYGON ((12417.5 85, 12416.5 85, 12416 84.5, ...</td>\n",
       "    </tr>\n",
       "    <tr>\n",
       "      <th>4</th>\n",
       "      <td>5</td>\n",
       "      <td>POLYGON ((5776.5 96, 5775.5 96, 5774.5 96, 577...</td>\n",
       "    </tr>\n",
       "  </tbody>\n",
       "</table>\n",
       "</div>"
      ],
      "text/plain": [
       "   label                                           geometry\n",
       "0      1  POLYGON ((11282.5 37, 11281.5 37, 11280.5 37, ...\n",
       "1      2  POLYGON ((77.5 42, 76.5 42, 75.5 42, 74.5 42, ...\n",
       "2      3  POLYGON ((13034.5 78, 13033.5 78, 13032.5 78, ...\n",
       "3      4  POLYGON ((12417.5 85, 12416.5 85, 12416 84.5, ...\n",
       "4      5  POLYGON ((5776.5 96, 5775.5 96, 5774.5 96, 577..."
      ]
     },
     "execution_count": 6,
     "metadata": {},
     "output_type": "execute_result"
    }
   ],
   "source": [
    "import g4x_helpers.segmentation as g4x_segmentation\n",
    "\n",
    "test_mask = sample.load_segmentation(expanded=True)\n",
    "\n",
    "polygon_labels = g4x_segmentation._vectorize_mask(test_mask, nudge=True)\n",
    "polygon_labels.head()"
   ]
  },
  {
   "cell_type": "code",
   "execution_count": 7,
   "id": "a2a95a2e",
   "metadata": {},
   "outputs": [
    {
     "name": "stdout",
     "output_type": "stream",
     "text": [
      "Rasterizing provided GeoDataFrame\n",
      "Extracting mask properties\n",
      "Assigning transcripts to mask labels\n",
      "Extracting image signals\n",
      "Extracting nuclear signal...\n",
      "Extracting eosin signal...\n",
      "Extracting PanCK signal...\n",
      "Extracting CD31 signal...\n",
      "Building output data structures\n",
      "Saving output files to /mnt/scratch/users/floraths/s3_data/caretta_staged_reads/g4-007/127/fc3/g4-007-127-FC3-L002_v2111/customer_output/D02/custom_seg\n"
     ]
    }
   ],
   "source": [
    "seg_out = sample.run_base / 'custom_seg'\n",
    "sample.run_g4x_segmentation(labels=polygon_labels, out_dir=seg_out, include_channels=['nuclear', 'eosin', 'PanCK', 'CD31'])"
   ]
  },
  {
   "cell_type": "markdown",
   "id": "0973067b",
   "metadata": {},
   "source": [
    "we can see that the output after resegmentation with the vectorized original mask returns idential tables"
   ]
  },
  {
   "cell_type": "code",
   "execution_count": 10,
   "id": "f6524cec",
   "metadata": {},
   "outputs": [
    {
     "data": {
      "text/html": [
       "<div><style>\n",
       ".dataframe > thead > tr,\n",
       ".dataframe > tbody > tr {\n",
       "  text-align: right;\n",
       "  white-space: pre-wrap;\n",
       "}\n",
       "</style>\n",
       "<small>shape: (5, 13)</small><table border=\"1\" class=\"dataframe\"><thead><tr><th></th><th>segmentation_cell_id</th><th>area</th><th>cell_x</th><th>cell_y</th><th>nuclearstain_intensity_mean</th><th>cytoplasmicstain_intensity_mean</th><th>PanCK_intensity_mean</th><th>CD31_intensity_mean</th><th>n_genes_by_counts</th><th>log1p_n_genes_by_counts</th><th>total_counts</th><th>log1p_total_counts</th></tr><tr><td>i64</td><td>str</td><td>f64</td><td>f64</td><td>f64</td><td>f64</td><td>f64</td><td>f64</td><td>f64</td><td>i64</td><td>f64</td><td>i64</td><td>f64</td></tr></thead><tbody><tr><td>0</td><td>&quot;D02-1&quot;</td><td>1208.0</td><td>11278.938742</td><td>15.34851</td><td>6.461093</td><td>6.461093</td><td>6.461093</td><td>6.461093</td><td>0</td><td>0.0</td><td>0</td><td>0.0</td></tr><tr><td>1</td><td>&quot;D02-2&quot;</td><td>1735.0</td><td>69.005764</td><td>19.633429</td><td>3.84611</td><td>3.84611</td><td>3.84611</td><td>3.84611</td><td>0</td><td>0.0</td><td>0</td><td>0.0</td></tr><tr><td>2</td><td>&quot;D02-3&quot;</td><td>2076.0</td><td>13024.856936</td><td>54.096339</td><td>6.550096</td><td>6.550096</td><td>6.550096</td><td>6.550096</td><td>2</td><td>1.098612</td><td>5</td><td>1.791759</td></tr><tr><td>3</td><td>&quot;D02-4&quot;</td><td>1787.0</td><td>12414.146614</td><td>60.585339</td><td>4.829323</td><td>4.829323</td><td>4.829323</td><td>4.829323</td><td>2</td><td>1.098612</td><td>9</td><td>2.302585</td></tr><tr><td>4</td><td>&quot;D02-5&quot;</td><td>2250.0</td><td>5767.357778</td><td>69.454222</td><td>5.351111</td><td>5.351111</td><td>5.351111</td><td>5.351111</td><td>4</td><td>1.609438</td><td>13</td><td>2.639057</td></tr></tbody></table></div>"
      ],
      "text/plain": [
       "shape: (5, 13)\n",
       "┌─────┬─────────────┬────────┬─────────────┬───┬────────────┬────────────┬────────────┬────────────┐\n",
       "│     ┆ segmentatio ┆ area   ┆ cell_x      ┆ … ┆ n_genes_by ┆ log1p_n_ge ┆ total_coun ┆ log1p_tota │\n",
       "│ --- ┆ n_cell_id   ┆ ---    ┆ ---         ┆   ┆ _counts    ┆ nes_by_cou ┆ ts         ┆ l_counts   │\n",
       "│ i64 ┆ ---         ┆ f64    ┆ f64         ┆   ┆ ---        ┆ nts        ┆ ---        ┆ ---        │\n",
       "│     ┆ str         ┆        ┆             ┆   ┆ i64        ┆ ---        ┆ i64        ┆ f64        │\n",
       "│     ┆             ┆        ┆             ┆   ┆            ┆ f64        ┆            ┆            │\n",
       "╞═════╪═════════════╪════════╪═════════════╪═══╪════════════╪════════════╪════════════╪════════════╡\n",
       "│ 0   ┆ D02-1       ┆ 1208.0 ┆ 11278.93874 ┆ … ┆ 0          ┆ 0.0        ┆ 0          ┆ 0.0        │\n",
       "│     ┆             ┆        ┆ 2           ┆   ┆            ┆            ┆            ┆            │\n",
       "│ 1   ┆ D02-2       ┆ 1735.0 ┆ 69.005764   ┆ … ┆ 0          ┆ 0.0        ┆ 0          ┆ 0.0        │\n",
       "│ 2   ┆ D02-3       ┆ 2076.0 ┆ 13024.85693 ┆ … ┆ 2          ┆ 1.098612   ┆ 5          ┆ 1.791759   │\n",
       "│     ┆             ┆        ┆ 6           ┆   ┆            ┆            ┆            ┆            │\n",
       "│ 3   ┆ D02-4       ┆ 1787.0 ┆ 12414.14661 ┆ … ┆ 2          ┆ 1.098612   ┆ 9          ┆ 2.302585   │\n",
       "│     ┆             ┆        ┆ 4           ┆   ┆            ┆            ┆            ┆            │\n",
       "│ 4   ┆ D02-5       ┆ 2250.0 ┆ 5767.357778 ┆ … ┆ 4          ┆ 1.609438   ┆ 13         ┆ 2.639057   │\n",
       "└─────┴─────────────┴────────┴─────────────┴───┴────────────┴────────────┴────────────┴────────────┘"
      ]
     },
     "execution_count": 10,
     "metadata": {},
     "output_type": "execute_result"
    }
   ],
   "source": [
    "import polars as pl\n",
    "pl.read_csv(seg_out / 'single_cell_data' / 'cell_metadata.csv.gz').head()"
   ]
  },
  {
   "cell_type": "code",
   "execution_count": 11,
   "id": "39309ad1",
   "metadata": {},
   "outputs": [
    {
     "data": {
      "text/html": [
       "<div><style>\n",
       ".dataframe > thead > tr,\n",
       ".dataframe > tbody > tr {\n",
       "  text-align: right;\n",
       "  white-space: pre-wrap;\n",
       "}\n",
       "</style>\n",
       "<small>shape: (5, 33)</small><table border=\"1\" class=\"dataframe\"><thead><tr><th>label</th><th>nuclei_area</th><th>cell_y</th><th>cell_x</th><th>nuclei_expanded_area</th><th>expanded_cell_y</th><th>expanded_cell_x</th><th>nuclearstain_intensity_mean</th><th>cytoplasmicstain_intensity_mean</th><th>PD1_intensity_mean</th><th>CD8_intensity_mean</th><th>PDL1_intensity_mean</th><th>CD56_intensity_mean</th><th>KI67_intensity_mean</th><th>CD45RA_intensity_mean</th><th>PanCK_intensity_mean</th><th>MsIgG2a_intensity_mean</th><th>FOXP3_intensity_mean</th><th>CD20_intensity_mean</th><th>CD4_intensity_mean</th><th>MsIgG1_intensity_mean</th><th>CD11c_intensity_mean</th><th>HLA-DR_intensity_mean</th><th>CD68_intensity_mean</th><th>CD31_intensity_mean</th><th>CTLA4_intensity_mean</th><th>ATPase_intensity_mean</th><th>CD3_intensity_mean</th><th>aSMA_intensity_mean</th><th>n_genes_by_counts</th><th>log1p_n_genes_by_counts</th><th>total_counts</th><th>log1p_total_counts</th></tr><tr><td>str</td><td>f64</td><td>f64</td><td>f64</td><td>f64</td><td>f64</td><td>f64</td><td>f64</td><td>f64</td><td>f64</td><td>f64</td><td>f64</td><td>f64</td><td>f64</td><td>f64</td><td>f64</td><td>f64</td><td>f64</td><td>f64</td><td>f64</td><td>f64</td><td>f64</td><td>f64</td><td>f64</td><td>f64</td><td>f64</td><td>f64</td><td>f64</td><td>f64</td><td>i64</td><td>f64</td><td>i64</td><td>f64</td></tr></thead><tbody><tr><td>&quot;D02-1&quot;</td><td>133.0</td><td>12.789474</td><td>11278.766917</td><td>1208.0</td><td>15.34851</td><td>11278.938742</td><td>113.948675</td><td>65.528974</td><td>1.220199</td><td>2.620033</td><td>1.120861</td><td>1.027318</td><td>1.113411</td><td>1.403974</td><td>6.461093</td><td>1.855132</td><td>1.495033</td><td>2.245033</td><td>1.528974</td><td>0.916391</td><td>0.716887</td><td>1.059603</td><td>3.703642</td><td>8.274007</td><td>1.433775</td><td>1.167219</td><td>1.862583</td><td>10.798013</td><td>0</td><td>0.0</td><td>0</td><td>0.0</td></tr><tr><td>&quot;D02-2&quot;</td><td>299.0</td><td>18.458194</td><td>69.076923</td><td>1735.0</td><td>19.633429</td><td>69.005764</td><td>195.552476</td><td>127.934552</td><td>3.468012</td><td>8.157349</td><td>5.737752</td><td>1.536023</td><td>3.442075</td><td>4.533718</td><td>3.84611</td><td>3.14755</td><td>3.832277</td><td>6.106052</td><td>2.571758</td><td>2.043228</td><td>3.580403</td><td>2.847262</td><td>8.447839</td><td>18.906628</td><td>3.46513</td><td>3.491066</td><td>6.203458</td><td>3.285303</td><td>0</td><td>0.0</td><td>0</td><td>0.0</td></tr><tr><td>&quot;D02-3&quot;</td><td>391.0</td><td>53.71867</td><td>13024.918159</td><td>2076.0</td><td>54.096339</td><td>13024.856936</td><td>142.603083</td><td>85.710983</td><td>1.867052</td><td>2.692678</td><td>2.007707</td><td>0.820809</td><td>2.180154</td><td>2.188825</td><td>6.550096</td><td>1.879576</td><td>1.86368</td><td>3.374759</td><td>1.521676</td><td>2.025048</td><td>1.865607</td><td>2.38632</td><td>2.424374</td><td>7.371387</td><td>1.462909</td><td>1.769268</td><td>4.195087</td><td>8.270713</td><td>2</td><td>1.098612</td><td>5</td><td>1.791759</td></tr><tr><td>&quot;D02-4&quot;</td><td>306.0</td><td>60.882353</td><td>12414.04902</td><td>1787.0</td><td>60.585339</td><td>12414.146614</td><td>218.645215</td><td>122.061556</td><td>2.002238</td><td>2.703414</td><td>2.001679</td><td>1.148293</td><td>6.467823</td><td>5.761052</td><td>4.829323</td><td>1.841634</td><td>2.196419</td><td>10.973139</td><td>0.866256</td><td>0.593733</td><td>3.125909</td><td>2.68047</td><td>4.304421</td><td>10.589256</td><td>0.814214</td><td>0.54169</td><td>1.562955</td><td>40.233352</td><td>2</td><td>1.098612</td><td>9</td><td>2.302585</td></tr><tr><td>&quot;D02-5&quot;</td><td>500.0</td><td>69.414</td><td>5767.33</td><td>2250.0</td><td>69.454222</td><td>5767.357778</td><td>156.375619</td><td>87.652722</td><td>2.183556</td><td>3.704444</td><td>1.211111</td><td>0.675111</td><td>2.282667</td><td>2.940889</td><td>5.351111</td><td>2.068</td><td>1.877778</td><td>2.992444</td><td>2.667111</td><td>0.948</td><td>0.787556</td><td>1.132444</td><td>4.692444</td><td>25.133333</td><td>1.274222</td><td>1.46</td><td>3.810667</td><td>8.737333</td><td>4</td><td>1.609438</td><td>13</td><td>2.639057</td></tr></tbody></table></div>"
      ],
      "text/plain": [
       "shape: (5, 33)\n",
       "┌───────┬────────────┬───────────┬────────────┬───┬────────────┬───────────┬───────────┬───────────┐\n",
       "│ label ┆ nuclei_are ┆ cell_y    ┆ cell_x     ┆ … ┆ n_genes_by ┆ log1p_n_g ┆ total_cou ┆ log1p_tot │\n",
       "│ ---   ┆ a          ┆ ---       ┆ ---        ┆   ┆ _counts    ┆ enes_by_c ┆ nts       ┆ al_counts │\n",
       "│ str   ┆ ---        ┆ f64       ┆ f64        ┆   ┆ ---        ┆ ounts     ┆ ---       ┆ ---       │\n",
       "│       ┆ f64        ┆           ┆            ┆   ┆ i64        ┆ ---       ┆ i64       ┆ f64       │\n",
       "│       ┆            ┆           ┆            ┆   ┆            ┆ f64       ┆           ┆           │\n",
       "╞═══════╪════════════╪═══════════╪════════════╪═══╪════════════╪═══════════╪═══════════╪═══════════╡\n",
       "│ D02-1 ┆ 133.0      ┆ 12.789474 ┆ 11278.7669 ┆ … ┆ 0          ┆ 0.0       ┆ 0         ┆ 0.0       │\n",
       "│       ┆            ┆           ┆ 17         ┆   ┆            ┆           ┆           ┆           │\n",
       "│ D02-2 ┆ 299.0      ┆ 18.458194 ┆ 69.076923  ┆ … ┆ 0          ┆ 0.0       ┆ 0         ┆ 0.0       │\n",
       "│ D02-3 ┆ 391.0      ┆ 53.71867  ┆ 13024.9181 ┆ … ┆ 2          ┆ 1.098612  ┆ 5         ┆ 1.791759  │\n",
       "│       ┆            ┆           ┆ 59         ┆   ┆            ┆           ┆           ┆           │\n",
       "│ D02-4 ┆ 306.0      ┆ 60.882353 ┆ 12414.0490 ┆ … ┆ 2          ┆ 1.098612  ┆ 9         ┆ 2.302585  │\n",
       "│       ┆            ┆           ┆ 2          ┆   ┆            ┆           ┆           ┆           │\n",
       "│ D02-5 ┆ 500.0      ┆ 69.414    ┆ 5767.33    ┆ … ┆ 4          ┆ 1.609438  ┆ 13        ┆ 2.639057  │\n",
       "└───────┴────────────┴───────────┴────────────┴───┴────────────┴───────────┴───────────┴───────────┘"
      ]
     },
     "execution_count": 11,
     "metadata": {},
     "output_type": "execute_result"
    }
   ],
   "source": [
    "import polars as pl\n",
    "pl.read_csv(sample.run_base / 'single_cell_data' / 'cell_metadata.csv.gz').head()"
   ]
  },
  {
   "cell_type": "markdown",
   "id": "a1c08cb0",
   "metadata": {},
   "source": [
    "## Bin file generation"
   ]
  },
  {
   "cell_type": "code",
   "execution_count": 12,
   "id": "55563eea",
   "metadata": {},
   "outputs": [],
   "source": [
    "import g4x_helpers.g4x_viewer.bin_generator as bin_gen\n",
    "import anndata as ad\n",
    "\n",
    "seg_out = sample.run_base / 'custom_seg'\n",
    "\n",
    "adata = ad.read_h5ad(seg_out / 'single_cell_data' / 'feature_matrix.h5')\n",
    "\n",
    "adata_ori = sample.load_adata()\n",
    "cell_labels = sample.load_segmentation(expanded=True)\n",
    "\n",
    "# creating a label since resegmentation does not produce clusters by default\n",
    "adata.obs['sample'] = sample.sample_id"
   ]
  },
  {
   "cell_type": "code",
   "execution_count": 13,
   "id": "13b898f0",
   "metadata": {},
   "outputs": [
    {
     "name": "stderr",
     "output_type": "stream",
     "text": [
      "\u001b[33m(raylet)\u001b[0m [2025-05-16 00:02:53,380 E 356248 356277] (raylet) file_system_monitor.cc:116: /tmp/ray/session_2025-05-16_00-02-41_920682_355172 is over 95% full, available space: 273.087 GB; capacity: 9691.57 GB. Object creation will fail if spilling is required.\n",
      "\u001b[33m(raylet)\u001b[0m [2025-05-16 00:03:03,389 E 356248 356277] (raylet) file_system_monitor.cc:116: /tmp/ray/session_2025-05-16_00-02-41_920682_355172 is over 95% full, available space: 273.085 GB; capacity: 9691.57 GB. Object creation will fail if spilling is required.\n",
      "\u001b[33m(raylet)\u001b[0m [2025-05-16 00:03:13,397 E 356248 356277] (raylet) file_system_monitor.cc:116: /tmp/ray/session_2025-05-16_00-02-41_920682_355172 is over 95% full, available space: 273.083 GB; capacity: 9691.57 GB. Object creation will fail if spilling is required.\n",
      "\u001b[33m(raylet)\u001b[0m [2025-05-16 00:03:23,404 E 356248 356277] (raylet) file_system_monitor.cc:116: /tmp/ray/session_2025-05-16_00-02-41_920682_355172 is over 95% full, available space: 273.081 GB; capacity: 9691.57 GB. Object creation will fail if spilling is required.\n",
      "\u001b[33m(raylet)\u001b[0m [2025-05-16 00:03:33,410 E 356248 356277] (raylet) file_system_monitor.cc:116: /tmp/ray/session_2025-05-16_00-02-41_920682_355172 is over 95% full, available space: 273.08 GB; capacity: 9691.57 GB. Object creation will fail if spilling is required.\n",
      "100%|██████████| 169012/169012 [00:01<00:00, 149042.47it/s]\n"
     ]
    }
   ],
   "source": [
    "out = '/mnt/scratch/users/floraths/s3_data/caretta_staged_reads/g4-007/127/fc3/g4-007-127-FC3-L002_v2111/customer_output/D02/custom_seg/bin_test'\n",
    "\n",
    "_ = bin_gen.seg_converter(\n",
    "    adata_clustered=adata,\n",
    "    adata_orig=adata_ori,\n",
    "    arr=cell_labels,\n",
    "    cluster_key='sample',\n",
    "    outpath=f'{out}/{sample.sample_id}.bin',\n",
    ")\n"
   ]
  }
 ],
 "metadata": {
  "kernelspec": {
   "display_name": ".venv",
   "language": "python",
   "name": "python3"
  },
  "language_info": {
   "codemirror_mode": {
    "name": "ipython",
    "version": 3
   },
   "file_extension": ".py",
   "mimetype": "text/x-python",
   "name": "python",
   "nbconvert_exporter": "python",
   "pygments_lexer": "ipython3",
   "version": "3.10.14"
  }
 },
 "nbformat": 4,
 "nbformat_minor": 5
}
